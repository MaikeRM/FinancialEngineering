{
 "cells": [
  {
   "cell_type": "code",
   "execution_count": 2,
   "metadata": {},
   "outputs": [],
   "source": [
    "from sympy import *"
   ]
  },
  {
   "cell_type": "markdown",
   "metadata": {},
   "source": [
    "# Discrete Random Variables"
   ]
  },
  {
   "cell_type": "code",
   "execution_count": null,
   "metadata": {},
   "outputs": [],
   "source": [
    "\"\"\"\n",
    "Definition:\n",
    "The cumulative distribution function (CDF), F(·), of a random\n",
    "variable, X, is defined by\n",
    "\n",
    "F(x) := P(X ≤ x).\n",
    "\n",
    "\"\"\""
   ]
  },
  {
   "cell_type": "code",
   "execution_count": 10,
   "metadata": {},
   "outputs": [],
   "source": [
    "#Exemplo: Jogar dado\n",
    "x = (1,2,3,4,5,6)\n",
    "wp = 1/len(x)"
   ]
  },
  {
   "cell_type": "code",
   "execution_count": null,
   "metadata": {},
   "outputs": [],
   "source": [
    "\"\"\"\n",
    "Definition:\n",
    "A discrete random variable, X, has probability mass function (PMF),\n",
    "p(·), if p(x) ≥ 0 and for all events A we have\n",
    "P(X ∈ A) = X x∈A p(x).\n",
    "\n",
    "\"\"\""
   ]
  },
  {
   "cell_type": "code",
   "execution_count": 40,
   "metadata": {},
   "outputs": [
    {
     "name": "stdout",
     "output_type": "stream",
     "text": [
      "Probabilidade de ser maior ou igual a 4 P(x=>4) (4, 5, 6)\n",
      "probabilidade:  0.17  valor  4\n",
      "probabilidade:  0.33  valor  4 5\n",
      "probabilidade:  0.5  valor  4 5 6\n"
     ]
    }
   ],
   "source": [
    "#Probabilidade de ser maior ou igual a 4 P(x=>4)\n",
    "px=0\n",
    "seq = ''\n",
    "print('Probabilidade de ser maior ou igual a 4 P(x=>4)', x[3:])\n",
    "for i in x[3:]:\n",
    "    px = px+wp\n",
    "    seq = seq + ' ' + str(i)\n",
    "    print('probabilidade: ', round(px, 2), ' valor', seq)"
   ]
  },
  {
   "cell_type": "code",
   "execution_count": null,
   "metadata": {},
   "outputs": [],
   "source": [
    "\"\"\"\n",
    "Definition:\n",
    "The expected value of a discrete random variable, X, is given by\n",
    "E[X] := SUM xi p(xi).\n",
    "\n",
    "\"\"\""
   ]
  },
  {
   "cell_type": "code",
   "execution_count": 37,
   "metadata": {},
   "outputs": [
    {
     "name": "stdout",
     "output_type": "stream",
     "text": [
      "O valor esperado E(x) é de: 3.5\n"
     ]
    }
   ],
   "source": [
    "#Para o mesmo caso, o valor esperado seria:\n",
    "Ex = 0\n",
    "for i in x:\n",
    "    Ex = Ex + wp*i\n",
    "print('O valor esperado E(x) é de:', Ex)"
   ]
  },
  {
   "cell_type": "code",
   "execution_count": null,
   "metadata": {},
   "outputs": [],
   "source": [
    "\"\"\"\n",
    "Definition. The variance of any random variable, X, is defined as\n",
    "Var(X) := E[(X − E[X])2]\n",
    "        = E[X2] − E[X]2\n",
    "\n",
    "\"\"\""
   ]
  },
  {
   "cell_type": "code",
   "execution_count": 44,
   "metadata": {},
   "outputs": [
    {
     "name": "stdout",
     "output_type": "stream",
     "text": [
      "A variancia para de um dado é de: 2.92\n"
     ]
    }
   ],
   "source": [
    "#Obtendo a variancia para o caso\n",
    "\n",
    "varx = 0\n",
    "Ex2 = 0\n",
    "\n",
    "for i in x:\n",
    "    Ex2 = Ex2 + wp*i**2\n",
    "\n",
    "varx = Ex2 - Ex**2\n",
    "\n",
    "print(\"A variancia para de um dado é de:\", round(varx, 2))"
   ]
  },
  {
   "cell_type": "markdown",
   "metadata": {},
   "source": [
    "# The Binomial Distribution"
   ]
  },
  {
   "cell_type": "code",
   "execution_count": null,
   "metadata": {},
   "outputs": [],
   "source": [
    "\"\"\"\n",
    "\n",
    "We say X has a binomial distribution, or X ∼ Bin(n, p), if\n",
    "P(X = r) = \u0012\n",
    "n\n",
    "r\n",
    "\u0013\n",
    "p\n",
    "r\n",
    "(1 − p)\n",
    "n−r\n",
    ".\n",
    "For example, X might represent the number of heads in n independent coin\n",
    "tosses, where p = P(head). The mean and variance of the binomial distribution\n",
    "satisfy\n",
    "E[X] = np\n",
    "Var(X) = np(1 − p).\n",
    "\n",
    "\"\"\""
   ]
  }
 ],
 "metadata": {
  "interpreter": {
   "hash": "2a89ebda5b1df6869a80ed231ce3cbd82800ba4c96516904a7ea152290f5b260"
  },
  "kernelspec": {
   "display_name": "Python 3.8.8 ('base')",
   "language": "python",
   "name": "python3"
  },
  "language_info": {
   "codemirror_mode": {
    "name": "ipython",
    "version": 3
   },
   "file_extension": ".py",
   "mimetype": "text/x-python",
   "name": "python",
   "nbconvert_exporter": "python",
   "pygments_lexer": "ipython3",
   "version": "3.8.8"
  },
  "orig_nbformat": 4
 },
 "nbformat": 4,
 "nbformat_minor": 2
}
