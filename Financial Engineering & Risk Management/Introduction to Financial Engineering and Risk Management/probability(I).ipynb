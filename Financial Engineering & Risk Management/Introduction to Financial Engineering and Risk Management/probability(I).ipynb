{
 "cells": [
  {
   "cell_type": "code",
   "execution_count": 47,
   "metadata": {},
   "outputs": [],
   "source": [
    "from sympy import *\n",
    "from math import factorial"
   ]
  },
  {
   "cell_type": "markdown",
   "metadata": {},
   "source": [
    "# Discrete Random Variables"
   ]
  },
  {
   "cell_type": "code",
   "execution_count": null,
   "metadata": {},
   "outputs": [],
   "source": [
    "\"\"\"\n",
    "Definition:\n",
    "The cumulative distribution function (CDF), F(·), of a random\n",
    "variable, X, is defined by\n",
    "\n",
    "F(x) := P(X ≤ x).\n",
    "\n",
    "\"\"\""
   ]
  },
  {
   "cell_type": "code",
   "execution_count": 10,
   "metadata": {},
   "outputs": [],
   "source": [
    "#Exemplo: Jogar dado\n",
    "x = (1,2,3,4,5,6)\n",
    "wp = 1/len(x)"
   ]
  },
  {
   "cell_type": "code",
   "execution_count": null,
   "metadata": {},
   "outputs": [],
   "source": [
    "\"\"\"\n",
    "Definition:\n",
    "A discrete random variable, X, has probability mass function (PMF),\n",
    "p(·), if p(x) ≥ 0 and for all events A we have\n",
    "P(X ∈ A) = X x∈A p(x).\n",
    "\n",
    "\"\"\""
   ]
  },
  {
   "cell_type": "code",
   "execution_count": 40,
   "metadata": {},
   "outputs": [
    {
     "name": "stdout",
     "output_type": "stream",
     "text": [
      "Probabilidade de ser maior ou igual a 4 P(x=>4) (4, 5, 6)\n",
      "probabilidade:  0.17  valor  4\n",
      "probabilidade:  0.33  valor  4 5\n",
      "probabilidade:  0.5  valor  4 5 6\n"
     ]
    }
   ],
   "source": [
    "#Probabilidade de ser maior ou igual a 4 P(x=>4)\n",
    "px=0\n",
    "seq = ''\n",
    "print('Probabilidade de ser maior ou igual a 4 P(x=>4)', x[3:])\n",
    "for i in x[3:]:\n",
    "    px = px+wp\n",
    "    seq = seq + ' ' + str(i)\n",
    "    print('probabilidade: ', round(px, 2), ' valor', seq)"
   ]
  },
  {
   "cell_type": "code",
   "execution_count": null,
   "metadata": {},
   "outputs": [],
   "source": [
    "\"\"\"\n",
    "Definition:\n",
    "The expected value of a discrete random variable, X, is given by\n",
    "E[X] := SUM xi p(xi).\n",
    "\n",
    "\"\"\""
   ]
  },
  {
   "cell_type": "code",
   "execution_count": 37,
   "metadata": {},
   "outputs": [
    {
     "name": "stdout",
     "output_type": "stream",
     "text": [
      "O valor esperado E(x) é de: 3.5\n"
     ]
    }
   ],
   "source": [
    "#Para o mesmo caso, o valor esperado seria:\n",
    "Ex = 0\n",
    "for i in x:\n",
    "    Ex = Ex + wp*i\n",
    "print('O valor esperado E(x) é de:', Ex)"
   ]
  },
  {
   "cell_type": "code",
   "execution_count": null,
   "metadata": {},
   "outputs": [],
   "source": [
    "\"\"\"\n",
    "Definition. The variance of any random variable, X, is defined as\n",
    "Var(X) := E[(X − E[X])2]\n",
    "        = E[X2] − E[X]2\n",
    "\n",
    "\"\"\""
   ]
  },
  {
   "cell_type": "code",
   "execution_count": 44,
   "metadata": {},
   "outputs": [
    {
     "name": "stdout",
     "output_type": "stream",
     "text": [
      "A variancia para de um dado é de: 2.92\n"
     ]
    }
   ],
   "source": [
    "#Obtendo a variancia para o caso\n",
    "\n",
    "varx = 0\n",
    "Ex2 = 0\n",
    "\n",
    "for i in x:\n",
    "    Ex2 = Ex2 + wp*i**2\n",
    "\n",
    "varx = Ex2 - Ex**2\n",
    "\n",
    "print(\"A variancia para de um dado é de:\", round(varx, 2))"
   ]
  },
  {
   "cell_type": "markdown",
   "metadata": {},
   "source": [
    "# The Binomial Distribution"
   ]
  },
  {
   "cell_type": "code",
   "execution_count": null,
   "metadata": {},
   "outputs": [],
   "source": [
    "\"\"\"\n",
    "\n",
    "We say X has a binomial distribution, or X ∼ Bin(n, p), if\n",
    "P(X = r) = (n r)p**r(1 − p)**n−r\n",
    "\n",
    "For example, X might represent the number of heads in n independent coin\n",
    "tosses, where p = P(head). The mean and variance of the binomial distribution\n",
    "satisfy\n",
    "E[X] = np\n",
    "Var(X) = np(1 − p).\n",
    "\n",
    "\"\"\""
   ]
  },
  {
   "cell_type": "code",
   "execution_count": null,
   "metadata": {},
   "outputs": [],
   "source": [
    "\"\"\"\n",
    "(n r) = n!/(r!(n-r)!)\n",
    "\"\"\""
   ]
  },
  {
   "cell_type": "markdown",
   "metadata": {},
   "source": [
    "### A Financial Application"
   ]
  },
  {
   "cell_type": "code",
   "execution_count": null,
   "metadata": {},
   "outputs": [],
   "source": [
    "\"\"\"\n",
    "\n",
    "Suppose a fund manager outperforms the market in a given year with\n",
    "probability p and that she underperforms the market with probability 1 − p.\n",
    "She has a track record of 10 years and has outperformed the market in 8 of\n",
    "the 10 years.\n",
    "Moreover, performance in any one year is independent of performance in\n",
    "other years.\n",
    "Question: How likely is a track record as good as this if the fund manager had no\n",
    "skill so that p = 1/2?\n",
    "Answer: Let X be the number of outperforming years. Since the fund manager\n",
    "has no skill, X ∼ Bin(n = 10, p = 1/2) and\n",
    "P(X ≥ 8) = Xnr=8(n r)p**r(1 − p)**n−r\n",
    "\n",
    "Question: Suppose there are M fund managers? How well should the best one do\n",
    "over the 10-year period if none of them had any skill?\n",
    "\n",
    "\"\"\""
   ]
  },
  {
   "cell_type": "code",
   "execution_count": 52,
   "metadata": {},
   "outputs": [
    {
     "name": "stdout",
     "output_type": "stream",
     "text": [
      "A probabilidade é de: 4.4 %\n"
     ]
    }
   ],
   "source": [
    "#Resolvendo a questão a cima, temos:\n",
    "n=10\n",
    "p=1/2\n",
    "r=8\n",
    "\n",
    "Px = (factorial(n)/(factorial(r)*factorial(n-r)))*p**(r)*(1-p)**(n-r)\n",
    "\n",
    "print('A probabilidade é de:', round(Px*100, 1), '%')\n",
    "\n"
   ]
  },
  {
   "cell_type": "markdown",
   "metadata": {},
   "source": [
    "# The Poisson Distribution"
   ]
  },
  {
   "cell_type": "code",
   "execution_count": null,
   "metadata": {},
   "outputs": [],
   "source": [
    "\"\"\"\n",
    "We say X has a Poisson(λ) distribution if\n",
    "P(X = r) = λ**(r)*e**(-λ)/r!\n",
    "\n",
    "E[X] = λ and Var(X) = λ\n",
    "\n",
    "\"\"\""
   ]
  },
  {
   "cell_type": "markdown",
   "metadata": {},
   "source": [
    "# Bayes’ Theorem"
   ]
  },
  {
   "cell_type": "code",
   "execution_count": null,
   "metadata": {},
   "outputs": [],
   "source": [
    "\"\"\"\n",
    "Let A and B be two events for which P(B) 6= 0. Then\n",
    "P(A | B) = P(ATB)/P(B)\n",
    "         = P(B | A)P(A)/P(B)\n",
    "         = P(B | A)P(A)/(SUM P(B | Aj)P(Aj))\n",
    "where the Aj’s form a partition of the sample-space.\n",
    "\n",
    "\"\"\""
   ]
  },
  {
   "cell_type": "code",
   "execution_count": null,
   "metadata": {},
   "outputs": [],
   "source": [
    "\"\"\"\n",
    "Let Y1 and Y2 be the outcomes of tossing two fair dice independently of\n",
    "one another.\n",
    "\n",
    "Let X := Y1 + Y2. Question: What is P(Y1 ≥ 4 | X ≥ 8)?\n",
    "\n",
    "\"\"\""
   ]
  },
  {
   "cell_type": "code",
   "execution_count": null,
   "metadata": {},
   "outputs": [],
   "source": [
    "#Resolvendo a questão a cima, temos:\n",
    "\n",
    "y1 = (1,2,3,4,5,6)\n",
    "y2 =(1,2,3,4,5,6)\n",
    "\n",
    "wp=1/6\n",
    "\n",
    "for i in x[3:]:\n",
    "    pa = pa+wp\n",
    "\n"
   ]
  },
  {
   "cell_type": "markdown",
   "metadata": {},
   "source": [
    "# Continuous Random Variables"
   ]
  },
  {
   "cell_type": "code",
   "execution_count": null,
   "metadata": {},
   "outputs": [],
   "source": [
    "\"\"\"\n",
    "Definition. A continuous random variable, X, has probability density function\n",
    "(PDF), f(·), if f(x) ≥ 0 and for all events A\n",
    "\n",
    "\n",
    "\"\"\""
   ]
  },
  {
   "cell_type": "code",
   "execution_count": null,
   "metadata": {},
   "outputs": [],
   "source": []
  },
  {
   "cell_type": "markdown",
   "metadata": {},
   "source": [
    "# The Normal Distribution"
   ]
  },
  {
   "cell_type": "code",
   "execution_count": null,
   "metadata": {},
   "outputs": [],
   "source": []
  }
 ],
 "metadata": {
  "interpreter": {
   "hash": "2a89ebda5b1df6869a80ed231ce3cbd82800ba4c96516904a7ea152290f5b260"
  },
  "kernelspec": {
   "display_name": "Python 3.8.8 ('base')",
   "language": "python",
   "name": "python3"
  },
  "language_info": {
   "codemirror_mode": {
    "name": "ipython",
    "version": 3
   },
   "file_extension": ".py",
   "mimetype": "text/x-python",
   "name": "python",
   "nbconvert_exporter": "python",
   "pygments_lexer": "ipython3",
   "version": "3.8.8"
  },
  "orig_nbformat": 4
 },
 "nbformat": 4,
 "nbformat_minor": 2
}
